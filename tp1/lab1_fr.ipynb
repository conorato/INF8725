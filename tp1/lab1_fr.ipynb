{
 "cells": [
  {
   "cell_type": "markdown",
   "metadata": {},
   "source": [
    "Groupe:\n",
    "\n",
    "1 - Nom, Prénom, Matricule:\n",
    "\n",
    "2 - Nom, Prénom, Matricule:"
   ]
  },
  {
   "cell_type": "markdown",
   "metadata": {},
   "source": [
    "# Séance 1\n",
    "\n",
    "Ce laboratoire a pour objectif de manipuler et analyser les signaux 1D dans le domaine temporel et fréquentiel.\n",
    "\n",
    "**Remise**: \n",
    "\n",
    "La date de remise est le vendredi 28 septembre à 23h59. Une pénalité de 3 points par jour sera appliquée lors d'un retard.\n",
    "\n",
    "**Documents à remettre** :\n",
    "\n",
    "\n",
    "Les exercices doivent être codés dans ce fichier TP.ipynb. Les réponses aux questions doivent être incluses dans le code sous forme de commentaires ou dans des cellules dédiées (*Markdown* ou *text*). Les exercices doivent être séparés par des cellules, suivant le template fourni. Vous devez bien identifier chaque exercice et sous-question, et bien commenter le code. Veuillez nommer vos variables de manière explicite et assurez-vous que toutes les figures soient lisibles.\n",
    "\n",
    "Créer un fichier de rendu html (*Fichier -> Télécharger au format... -> HTML*)  de votre code et de vos graphiques. Veuillez remettre tous vos fichiers (.ipynb, html et autres) dans un seul fichier zip et nommez ce fichier selon vos matricules (Mat1\\_Mat2.zip).\n",
    "\n",
    "\n",
    "Une pénalité de 3 points sera appliquée si ces consignes ne sont pas respectées."
   ]
  },
  {
   "cell_type": "code",
   "execution_count": null,
   "metadata": {},
   "outputs": [],
   "source": [
    "## Imports\n",
    "import numpy as np\n",
    "import timeit\n",
    "import matplotlib.pyplot as plt"
   ]
  },
  {
   "cell_type": "markdown",
   "metadata": {},
   "source": [
    "## Exercice 1 (2 points)"
   ]
  },
  {
   "cell_type": "markdown",
   "metadata": {},
   "source": [
    "1-a. (0.25 point) Tracez le signal $s(t) = \\dfrac{sin(\\pi t)}{\\pi t}$ sur l'intervalle $t \\in [-4;4]$ avec une résolution de 1000 points (vous pouvez utiliser la fonction [np.linspace](https://numpy.org/doc/stable/reference/generated/numpy.linspace.html) pour générer le vecteur $t$). N'oubliez pas le titre et la légende (comme pour tous les autres graphiques que vous tracerez en laboratoire) ! "
   ]
  },
  {
   "cell_type": "code",
   "execution_count": 1,
   "metadata": {},
   "outputs": [],
   "source": [
    "## Code ##"
   ]
  },
  {
   "cell_type": "markdown",
   "metadata": {},
   "source": [
    "1-b. (0.25 point) Comment se nomme ce signal ?"
   ]
  },
  {
   "cell_type": "raw",
   "metadata": {},
   "source": []
  },
  {
   "cell_type": "markdown",
   "metadata": {},
   "source": [
    "2. (0.5 point) Tracez dans une nouvelle figure la superposition des signaux: \n",
    "\\begin{align*}\n",
    "s_1&=sin(t)  &s_2&=\\dfrac{\\sin(3 t)}{3} & s_3&=\\dfrac{\\sin(5 t)}{5}\n",
    "\\end{align*}\n",
    "sur l'intervalle $t \\in [-2; 2]$ et avec une résolution de 500 points."
   ]
  },
  {
   "cell_type": "code",
   "execution_count": null,
   "metadata": {},
   "outputs": [],
   "source": [
    "## Code ##"
   ]
  },
  {
   "cell_type": "markdown",
   "metadata": {},
   "source": [
    "3. (0.5 point) Superposez à ces 3 signaux leur somme $s_1 + s_2 + s_3$. Pour rendre le diagramme plus lisible vous pouvez tracer les 3 signaux en pointillés en ajoutant l'argument **'--'** à la fonction ```plt.plot(x, ..., '--')```. Tracez la somme en gras (```plt.plot(x, ..., linewidth=3)```) sur le même graphique. Ajoutez une légende correspondant à chaque courbe."
   ]
  },
  {
   "cell_type": "code",
   "execution_count": null,
   "metadata": {},
   "outputs": [],
   "source": [
    "## Code ##"
   ]
  },
  {
   "cell_type": "markdown",
   "metadata": {},
   "source": [
    "4-a. (0.25 point) Affichez dans une nouvelle figure mais sur le même intervalle $t\\in[-2;2]$ et la même résolution de 500 points, le signal: $S_{50}(t) = \\dfrac{1}{2} + \\dfrac{2}{\\pi} \\sum_{i=0}^{50} \\dfrac{\\sin((2i+1) t)}{2i+1}$, c'est à dire la somme de $\\frac{1}{2}$ et des $\\frac{2}{\\pi}\\frac{\\sin(k t)}{k}$ avec $k$ impair de $1$ à $101$"
   ]
  },
  {
   "cell_type": "code",
   "execution_count": null,
   "metadata": {},
   "outputs": [],
   "source": [
    "## Code ## "
   ]
  },
  {
   "cell_type": "markdown",
   "metadata": {},
   "source": [
    "4-b. (0.25 point) Enfin, réessayez pour $i$ allant de $0$ à $500$ ($k$ allant de $1$ à $1001$). Sur l'intervalle considéré, quel signal remarquable est approximé par cette somme de sinusoïdales ?"
   ]
  },
  {
   "cell_type": "code",
   "execution_count": null,
   "metadata": {},
   "outputs": [],
   "source": [
    "## Code ##"
   ]
  },
  {
   "cell_type": "raw",
   "metadata": {},
   "source": []
  },
  {
   "cell_type": "markdown",
   "metadata": {},
   "source": [
    "## Exercice 2 (3.5 points)"
   ]
  },
  {
   "cell_type": "markdown",
   "metadata": {},
   "source": [
    "Soit le signal analogique $Y(t)$ suivant :\n",
    "\n",
    "\\begin{align}\n",
    "Y(t) = 2\\sin( 165\\pi t ) + 13\\cos( 6\\pi t ) - 3\\cos( 80\\pi t )\n",
    "\\end{align}\n",
    "\n",
    "1. (0.5 point) Déterminez théoriquement les fréquences présentes dans ce signal."
   ]
  },
  {
   "cell_type": "raw",
   "metadata": {},
   "source": []
  },
  {
   "cell_type": "markdown",
   "metadata": {},
   "source": [
    "2. (1 point) Tracez le signal $Y(t)$ pour $0 \\leq t \\leq 1$ avec une fréquence d'échantillonnage $F_e$ de 20Hz, 75Hz, 100Hz, 160Hz, 180 Hz et 330Hz. Utilisez la commande [plt.subplots](https://matplotlib.org/api/_as_gen/matplotlib.pyplot.subplots.html) afin de créer plusieurs graphique (partageant les mêmes abscisses) et de les afficher l'un en dessous de l'autre. Ajoutez un titre au graphique, une étiquette aux axes pour chaque graphique. Utilisez ylim pour contrôler l'échelle de l'ordonnée."
   ]
  },
  {
   "cell_type": "code",
   "execution_count": null,
   "metadata": {},
   "outputs": [],
   "source": [
    "## Code ##"
   ]
  },
  {
   "cell_type": "markdown",
   "metadata": {},
   "source": [
    "3. (1 point) Comment la fréquence d'échantillonnage affecte la forme du signal?"
   ]
  },
  {
   "cell_type": "raw",
   "metadata": {},
   "source": []
  },
  {
   "cell_type": "markdown",
   "metadata": {},
   "source": [
    "4. (1 point) Lesquelles, parmi ces fréquences d'échantillonnage, satisfont le théorème de Nyquist-Shannon? En pratique, quel compromis doit-on faire lors du choix d'une fréquence d'échantillonnage ?"
   ]
  },
  {
   "cell_type": "raw",
   "metadata": {},
   "source": []
  },
  {
   "cell_type": "markdown",
   "metadata": {},
   "source": [
    "## Exercice 3 (5.5 points)"
   ]
  },
  {
   "cell_type": "markdown",
   "metadata": {},
   "source": [
    "Soient les trois signaux sinusoïdaux $Y_1(t)$, $Y_2(t)$ et $Y_3(t)$ suivants :\n",
    "\\begin{align*}\n",
    "Y_1(t) &= 7 \\sin( 2\\pi\\times10 t )\\\\\n",
    "Y_2(t) &= 4 \\sin( 2\\pi\\times25 t + \\frac{\\pi}{3})\\\\\n",
    "Y_3(t) &= 3 \\cos( 2\\pi\\times50 t )\n",
    "\\end{align*}\n",
    "\n",
    "Ces signaux sont échantillonnés à la fréquence $F_e = 250$Hz et seront observés sur l'intervalle: \n",
    "\\begin{align*} 0 \\leq t \\leq 1 \\end{align*}"
   ]
  },
  {
   "cell_type": "markdown",
   "metadata": {},
   "source": [
    "1. (1 point) Tracez les trois signaux $Y_1(t)$, $Y_2(t)$ et $Y_3(t)$. Mettez un titre, une légende et les étiquettes des axes x et y."
   ]
  },
  {
   "cell_type": "code",
   "execution_count": null,
   "metadata": {},
   "outputs": [],
   "source": [
    "## Code ##"
   ]
  },
  {
   "cell_type": "markdown",
   "metadata": {},
   "source": [
    "2. (0.5 point) Déterminez graphiquement la période de chacun de ces signaux. Comparez chaque résultat avec sa valeur théorique."
   ]
  },
  {
   "cell_type": "raw",
   "metadata": {},
   "source": []
  },
  {
   "cell_type": "markdown",
   "metadata": {},
   "source": [
    "3-a. (0.25 point) Tracez le signal composite $Z(t)=Y_1(t) + Y_2(t) + Y_3(t)$. "
   ]
  },
  {
   "cell_type": "code",
   "execution_count": null,
   "metadata": {},
   "outputs": [],
   "source": [
    "## Code ##"
   ]
  },
  {
   "cell_type": "markdown",
   "metadata": {},
   "source": [
    "3-b. (0.25 point) Graphiquement, quelle semble être la fréquence du signal $Z(t)$? Déterminez analytiquement cette fréquence sachant que la fréquence d'un signal composite est égal au plus grand diviseur commun des fréquences des signaux qui le composent."
   ]
  },
  {
   "cell_type": "raw",
   "metadata": {},
   "source": []
  },
  {
   "cell_type": "markdown",
   "metadata": {},
   "source": [
    "4. (1 point) Calculez la transformée de Fourier rapide (FFT) des signaux $Y_1(t)$, $Y_2(t)$ et $Y_3(t)$ à l'aide de la fonction [np.fft.fft](https://numpy.org/doc/stable/reference/generated/numpy.fft.fft.html) et affichez le spectre de fréquence de chacun. Que remarquez vous?"
   ]
  },
  {
   "cell_type": "code",
   "execution_count": null,
   "metadata": {},
   "outputs": [],
   "source": [
    "## Code ##"
   ]
  },
  {
   "cell_type": "markdown",
   "metadata": {},
   "source": [
    "5. (1 point) Calculez la TFD du signal composite et affichez son spectre de fréquence. Que remarquez-vous?"
   ]
  },
  {
   "cell_type": "raw",
   "metadata": {},
   "source": []
  },
  {
   "cell_type": "markdown",
   "metadata": {},
   "source": [
    "6. (1 point) On rappelle que la transformée de Fourier discrète (TFD) du signal s(n) à N échantillons est définie par:\n",
    "\\begin{align}\n",
    "S[k] = \\sum_{n=0}^{N-1} s(n)e^{-2i\\pi n k/N}\n",
    "\\end{align} pour $0 \\leq k < N$.\n",
    "Jusqu'à présent, vous avez utilisé la fonction fft (*Fast Fourier Transform*) offerte par *numpy*, qui n'est qu'une optimisation computationnelle du calcul de la TFD. Mais est-elle vraiment plus rapide que la TFD brute? \n",
    "Complétez le code suivant calculant la TFD d'un signal s:\n",
    "    ```python\n",
    "def tfd(s):\n",
    "    N = len(s)\n",
    "    S = np.zeros(N, dtype=complex)\n",
    "    n = np.arange(0, N)\n",
    "    exp_basis = np.exp(-2j*np.pi*n/N)\n",
    "    for k in range(N):\n",
    "        \n",
    "        S[k] = np.sum(...)\n",
    "    \n",
    "    return S\n",
    "```\n",
    "Vérifiez que vous obtenez le même spectre de $Z(t)$ avec votre fonction et la fft (tracez-le)."
   ]
  },
  {
   "cell_type": "code",
   "execution_count": null,
   "metadata": {},
   "outputs": [],
   "source": [
    "## Code ##"
   ]
  },
  {
   "cell_type": "markdown",
   "metadata": {},
   "source": [
    "7. (0.5 point) A l'aide du module [timeit](https://docs.python.org/3/library/timeit.html), comparez le temps d'executions de la fonction np.fft.fft et de votre fonction tdf, sur 100 itérations. Aidez-vous pour cela du code ci-dessous. Qu'en concluez-vous?\n",
    "```python\n",
    "temps = timeit.timeit(lambda:ma_fonction(args), n=nb_iterations) # A ajuster\n",
    "```"
   ]
  },
  {
   "cell_type": "code",
   "execution_count": 2,
   "metadata": {},
   "outputs": [],
   "source": [
    "## Code ##"
   ]
  },
  {
   "cell_type": "raw",
   "metadata": {},
   "source": []
  },
  {
   "cell_type": "markdown",
   "metadata": {},
   "source": [
    "# Séance 2\n",
    "## Exercice 4 (9 points)\n",
    "*Cet exercice laisse plus de place à l'interprétation, discutez et analysez vos résultats!*"
   ]
  },
  {
   "cell_type": "markdown",
   "metadata": {},
   "source": [
    "Un mystérieux enregistrement a été retrouvé lors d'une maintenance des serveurs Moodle. Cependant il semble bien peu audible; comme si un chargé de laboratoire facétieux s'était amusé à y ajouter des signaux parasites... \n",
    "\n",
    "Qu'à cela ne tienne, vous vous proposez de le décrypter en utilisant votre expertise en traitement du signal."
   ]
  },
  {
   "cell_type": "code",
   "execution_count": null,
   "metadata": {},
   "outputs": [],
   "source": [
    "## Imports\n",
    "import IPython.display as ipd\n",
    "import scipy.io.wavfile as wavfile\n",
    "from scipy.signal import firwin, lfilter, freqz"
   ]
  },
  {
   "cell_type": "markdown",
   "metadata": {},
   "source": [
    "1. (1 point) Chargez le fichier *audio.wav* à l'aide de la fonction [scipy.io.wavfile.read](https://docs.scipy.org/doc/scipy-0.14.0/reference/generated/scipy.io.wavfile.read.html). \n",
    "Celle-ci renvoie deux variables: la fréquence d'échantillonnage et le signal audio.\n",
    "\n",
    "Vous pouvez écouter le signal sonore original ou filtré à l'aide de la fonction [IPython.display.Audio](https://ipython.org/ipython-doc/3/api/generated/IPython.display.html). \n",
    " \n",
    "```python\n",
    "ipd.Audio(signal, rate=sample_rate)\n",
    "```\n",
    "En écoutant le signal, repérez la ou les perturbations de la mélodie principale. Pour chaque perturbation, précisez si le signal est haute ou basse fréquence."
   ]
  },
  {
   "cell_type": "code",
   "execution_count": null,
   "metadata": {},
   "outputs": [],
   "source": [
    "## Code ##"
   ]
  },
  {
   "cell_type": "raw",
   "metadata": {},
   "source": []
  },
  {
   "cell_type": "markdown",
   "metadata": {},
   "source": [
    "2-a. (0.5 point) Calculez la TFD du signal audio et affichez-la. Ajouter un titre et les axes."
   ]
  },
  {
   "cell_type": "code",
   "execution_count": null,
   "metadata": {},
   "outputs": [],
   "source": [
    "## Code ##"
   ]
  },
  {
   "cell_type": "markdown",
   "metadata": {},
   "source": [
    "2-b. (0.5 point) Quelle est la note (do, ré, mi, fa, sol, la ou si) correspondant aux perturbations? Aidez-vous de [l'article Wikipédia](http://fr.wikipedia.org/wiki/Note_de_musique) et du spectre de fréquence affiché."
   ]
  },
  {
   "cell_type": "raw",
   "metadata": {},
   "source": []
  },
  {
   "cell_type": "markdown",
   "metadata": {},
   "source": [
    "3. (0.5 point) Pour filtrer la perturbation la plus aigue, vous allez concevoir un filtre passe-bas. Comme vu en cours, un filtre est défini par plusieurs paramètres: sa fréquence de coupure, son ordre et le type de fenêtre employé.\n",
    "Donnez la définition de la fréquence de coupure."
   ]
  },
  {
   "cell_type": "raw",
   "metadata": {},
   "source": []
  },
  {
   "cell_type": "markdown",
   "metadata": {},
   "source": [
    "4. (1 point) En utilisant les fonctions [scipy.signal.firwin](https://docs.scipy.org/doc/scipy/reference/generated/scipy.signal.firwin.html) et [scipy.signal.lfilter](https://docs.scipy.org/doc/scipy/reference/generated/scipy.signal.lfilter.html), concevez un filtre passe bas d'ordre 128 pour filtrer la perturbation à la plus haute fréquence.  En tenant compte de la définition donnée ci-dessus, comment choisir une bonne fréquence de coupure? Filtrez la musique avec le filtre que vous venez de concevoir et décrivez ce que vous entendez. N'hésitez pas à jouer sur la fréquence de coupure pour observer son effet.\n",
    "Que se passe-t-il si elle est trop haute? Et si elle est trop basse? Quel type de filtre serait plus approprié à la pertubation considérée?\n"
   ]
  },
  {
   "cell_type": "code",
   "execution_count": null,
   "metadata": {},
   "outputs": [],
   "source": [
    "## Code ##"
   ]
  },
  {
   "cell_type": "raw",
   "metadata": {},
   "source": []
  },
  {
   "cell_type": "markdown",
   "metadata": {},
   "source": [
    "5. (1 point) Créez trois filtres passe-haut d'ordre 128 et de fréquence de coupure de 750 Hz en utilisant les fenêtres suivantes : Chebyshev, Hamming et Blackman. Pour la fenêtre Chebyshev, utilisez une atténuation de 30 dB."
   ]
  },
  {
   "cell_type": "code",
   "execution_count": null,
   "metadata": {},
   "outputs": [],
   "source": [
    "## Code ##"
   ]
  },
  {
   "cell_type": "markdown",
   "metadata": {},
   "source": [
    "6. (1.5 points) Affichez, pour chaque filtre, sa réponse fréquentielle à l'aide de la fonction [scipy.signal.freqz](https://docs.scipy.org/doc/scipy/reference/generated/scipy.signal.freqz.html). Sur chaque graphique, tracez la droite verticale passant par la fréquence de coupure. Vous pouvez pour cela utiliser la fonction:\n",
    "```python\n",
    "plt.axvline(freq_coupure, color='r', linewidth=2)\n",
    "```\n",
    "À quelle atténuation coupe-t-elle la courbe de la réponse fréquentielle? Était-ce prévisible?"
   ]
  },
  {
   "cell_type": "code",
   "execution_count": null,
   "metadata": {},
   "outputs": [],
   "source": [
    "## Code ##"
   ]
  },
  {
   "cell_type": "raw",
   "metadata": {},
   "source": []
  },
  {
   "cell_type": "markdown",
   "metadata": {},
   "source": [
    "7. (1.5 points) Filtrez le signal audio qui a déjà été filtré avec le filtre passe-bas à l'aide des trois filtres créés précédemment. Lorsque vous écoutez les trois signaux, que remarquez-vous? Pour le filtre passe-haut et en fonction de la fréquence de coupure utilisée, quel va être le compromis sur la qualité du signal restaurée ?"
   ]
  },
  {
   "cell_type": "code",
   "execution_count": null,
   "metadata": {},
   "outputs": [],
   "source": [
    "## Code ##"
   ]
  },
  {
   "cell_type": "raw",
   "metadata": {},
   "source": []
  },
  {
   "cell_type": "markdown",
   "metadata": {},
   "source": [
    "8. (1 point) Calculez les TFD des signaux filtrés avec les trois filtres et affichez les spectres. Est-ce que les spectres, au niveau des basses fréquences, correspondent à ce que vous avez entendu?"
   ]
  },
  {
   "cell_type": "code",
   "execution_count": null,
   "metadata": {},
   "outputs": [],
   "source": [
    "## Code ##"
   ]
  },
  {
   "cell_type": "raw",
   "metadata": {},
   "source": []
  }
 ],
 "metadata": {
  "kernelspec": {
   "display_name": "Python 3",
   "language": "python",
   "name": "python3"
  },
  "language_info": {
   "codemirror_mode": {
    "name": "ipython",
    "version": 3
   },
   "file_extension": ".py",
   "mimetype": "text/x-python",
   "name": "python",
   "nbconvert_exporter": "python",
   "pygments_lexer": "ipython3",
   "version": "3.7.7"
  }
 },
 "nbformat": 4,
 "nbformat_minor": 2
}
